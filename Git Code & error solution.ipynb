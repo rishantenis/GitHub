{
 "cells": [
  {
   "cell_type": "markdown",
   "metadata": {},
   "source": [
    "\n",
    "\n",
    "\n",
    "\n",
    "\n",
    "\n",
    "\n",
    "\n",
    "\n",
    "\n",
    "\n",
    "\n",
    "**<span style=\"color:#000000;\">…or create a new repository on the command line</span>**\n",
    "\n",
    "**<span style=\"color:#000000;\">echo \"# GitHub\" >> README.md</span>**\n",
    "\n",
    "**<span style=\"color:#000000;\">git init</span>**\n",
    "\n",
    "**<span style=\"color:#000000;\">git add README.md</span>**\n",
    "\n",
    "**<span style=\"color:#000000;\">git commit -m \"first commit\"</span>**\n",
    "\n",
    "**<span style=\"color:#000000;\">git branch -M main</span>**\n",
    "\n",
    "**<span style=\"color:#000000;\">git remote add origin https://github.com/`GitHub username`/`GitHub repository name`.git</span>**\n",
    "\n",
    "\n",
    "**<span style=\"color:#000000;\">git push -u origin main</span>**\n",
    "\n"
   ]
  },
  {
   "cell_type": "markdown",
   "metadata": {},
   "source": [
    "\n",
    "**<span style=\"color:#000000;\">…or push an existing repository from the command line</span>**\n",
    "\n",
    "**<span style=\"color:#000000;\">git add .</span>**\n",
    "\n",
    "**<span style=\"color:#000000;\">git commit -m \"Commit_ Name\"</span>**\n",
    "\n",
    "**<span style=\"color:#000000;\">git push -u origin main</span>**\n"
   ]
  }
 ],
 "metadata": {
  "kernelspec": {
   "display_name": "Data_Sci",
   "language": "python",
   "name": "python3"
  },
  "language_info": {
   "name": "python",
   "version": "3.7.16"
  }
 },
 "nbformat": 4,
 "nbformat_minor": 2
}
