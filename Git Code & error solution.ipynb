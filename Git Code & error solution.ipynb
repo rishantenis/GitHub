{
 "cells": [
  {
   "cell_type": "code",
   "execution_count": null,
   "metadata": {},
   "outputs": [],
   "source": [
    "…or create a new repository on the command line\n",
    "echo \"# GitHub\" >> README.md\n",
    "git init\n",
    "git add README.md\n",
    "git commit -m \"first commit\"\n",
    "git branch -M main\n",
    "git remote add origin https://github.com/rishantenis/GitHub.git\n",
    "git push -u origin main"
   ]
  },
  {
   "cell_type": "code",
   "execution_count": null,
   "metadata": {},
   "outputs": [],
   "source": [
    "…or push an existing repository from the command line\n",
    "git remote add origin https://github.com/rishantenis/GitHub.git\n",
    "git branch -M main\n",
    "git push -u origin main"
   ]
  }
 ],
 "metadata": {
  "language_info": {
   "name": "python"
  }
 },
 "nbformat": 4,
 "nbformat_minor": 2
}
